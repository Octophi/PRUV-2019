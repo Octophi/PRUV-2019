{
 "cells": [
  {
   "cell_type": "code",
   "execution_count": 1,
   "metadata": {},
   "outputs": [
    {
     "ename": "QiskitBackendNotFoundError",
     "evalue": "'No backend matches the criteria'",
     "output_type": "error",
     "traceback": [
      "\u001b[1;31m---------------------------------------------------------------------------\u001b[0m",
      "\u001b[1;31mQiskitBackendNotFoundError\u001b[0m                Traceback (most recent call last)",
      "\u001b[1;32m<ipython-input-1-9139d9f7ddc4>\u001b[0m in \u001b[0;36m<module>\u001b[1;34m\u001b[0m\n\u001b[0;32m     22\u001b[0m \u001b[1;33m\u001b[0m\u001b[0m\n\u001b[0;32m     23\u001b[0m \u001b[0msimulator\u001b[0m \u001b[1;33m=\u001b[0m \u001b[0mAer\u001b[0m\u001b[1;33m.\u001b[0m\u001b[0mget_backend\u001b[0m\u001b[1;33m(\u001b[0m\u001b[1;34m'qasm_simulator'\u001b[0m\u001b[1;33m)\u001b[0m\u001b[1;33m\u001b[0m\u001b[1;33m\u001b[0m\u001b[0m\n\u001b[1;32m---> 24\u001b[1;33m \u001b[0mbackend\u001b[0m \u001b[1;33m=\u001b[0m \u001b[0mIBMQ\u001b[0m\u001b[1;33m.\u001b[0m\u001b[0mget_backend\u001b[0m\u001b[1;33m(\u001b[0m\u001b[1;34m'ibmqx2'\u001b[0m\u001b[1;33m)\u001b[0m\u001b[1;33m\u001b[0m\u001b[1;33m\u001b[0m\u001b[0m\n\u001b[0m\u001b[0;32m     25\u001b[0m \u001b[0mprint\u001b[0m\u001b[1;33m(\u001b[0m\u001b[1;34m\"Available backends:\"\u001b[0m\u001b[1;33m)\u001b[0m\u001b[1;33m\u001b[0m\u001b[1;33m\u001b[0m\u001b[0m\n\u001b[0;32m     26\u001b[0m \u001b[0mIBMQ\u001b[0m\u001b[1;33m.\u001b[0m\u001b[0mbackends\u001b[0m\u001b[1;33m(\u001b[0m\u001b[1;33m)\u001b[0m\u001b[1;33m\u001b[0m\u001b[1;33m\u001b[0m\u001b[0m\n",
      "\u001b[1;32mc:\\users\\ddrsq\\anaconda3\\envs\\pruv19\\lib\\site-packages\\qiskit\\providers\\baseprovider.py\u001b[0m in \u001b[0;36mget_backend\u001b[1;34m(self, name, **kwargs)\u001b[0m\n\u001b[0;32m     51\u001b[0m             \u001b[1;32mraise\u001b[0m \u001b[0mQiskitBackendNotFoundError\u001b[0m\u001b[1;33m(\u001b[0m\u001b[1;34m'More than one backend matches the criteria'\u001b[0m\u001b[1;33m)\u001b[0m\u001b[1;33m\u001b[0m\u001b[1;33m\u001b[0m\u001b[0m\n\u001b[0;32m     52\u001b[0m         \u001b[1;32melif\u001b[0m \u001b[1;32mnot\u001b[0m \u001b[0mbackends\u001b[0m\u001b[1;33m:\u001b[0m\u001b[1;33m\u001b[0m\u001b[1;33m\u001b[0m\u001b[0m\n\u001b[1;32m---> 53\u001b[1;33m             \u001b[1;32mraise\u001b[0m \u001b[0mQiskitBackendNotFoundError\u001b[0m\u001b[1;33m(\u001b[0m\u001b[1;34m'No backend matches the criteria'\u001b[0m\u001b[1;33m)\u001b[0m\u001b[1;33m\u001b[0m\u001b[1;33m\u001b[0m\u001b[0m\n\u001b[0m\u001b[0;32m     54\u001b[0m \u001b[1;33m\u001b[0m\u001b[0m\n\u001b[0;32m     55\u001b[0m         \u001b[1;32mreturn\u001b[0m \u001b[0mbackends\u001b[0m\u001b[1;33m[\u001b[0m\u001b[1;36m0\u001b[0m\u001b[1;33m]\u001b[0m\u001b[1;33m\u001b[0m\u001b[1;33m\u001b[0m\u001b[0m\n",
      "\u001b[1;31mQiskitBackendNotFoundError\u001b[0m: 'No backend matches the criteria'"
     ]
    }
   ],
   "source": [
    "'''\n",
    "Last Run: 6/10/2019\n",
    "Author: Joey Li\n",
    "Description: The Swap test is a simple protocol in quantum information theory that can be considered a simplified \n",
    "version of the Schur basis transform for n=2 qubits. Correspondingly, it can be used for anything the Schur transform\n",
    "is used for, including qubit purification and spectrum estimation. This particular program was a prototype to test\n",
    "that qubit purification was indeed achieved using the Schur basis.\n",
    "'''\n",
    "\n",
    "import qiskit\n",
    "from qiskit import IBMQ\n",
    "from qiskit import(QuantumCircuit, execute, Aer, QuantumRegister, ClassicalRegister)\n",
    "from qiskit.visualization import plot_histogram\n",
    "import random\n",
    "import numpy as np\n",
    "\n",
    "import matplotlib.pyplot as plt\n",
    "%matplotlib inline\n",
    "from numpy import matrix\n",
    "from math import pi\n",
    "from math import sqrt\n",
    "\n",
    "simulator = Aer.get_backend('qasm_simulator')\n",
    "#backend = IBMQ.get_backend('ibmqx2')\n",
    "print(\"Available backends:\")\n",
    "IBMQ.backends()\n",
    "\n",
    "# Prepare mixed states that are 0 with probability p\n",
    "def randomize(circ,regs,p):\n",
    "    for i in regs:\n",
    "        if random.random() > p:\n",
    "            circ.x(i)\n",
    "\n",
    "        \n",
    "shots = 1024\n",
    "trials = 5\n",
    "totalSuccessful = 0\n",
    "cleanData = {\"000\":0, \"001\":0, \"010\":0, \"011\":0, \"100\": 0, \"101\": 0, \"110\": 0, \"111\": 0}\n",
    "qubits = 3\n",
    "cbits = 3\n",
    "pval = 0.7\n",
    "\n",
    "failures = 0\n",
    "desired_state = [sqrt(pval), sqrt(1-pval)]\n",
    "\n",
    "for i in range(trials):\n",
    "    qr = QuantumRegister(qubits)\n",
    "    cr = ClassicalRegister(cbits)\n",
    "    qc = QuantumCircuit(qr,cr)\n",
    "    \n",
    "    randomize(qc,[0,1],pval)\n",
    "    #qc.initialize(desired_state, [qr[1]])\n",
    "    #qc.initialize(desired_state, [qr[0]])\n",
    "\n",
    "    \n",
    "    qc.h(qr[2])\n",
    "    qc.barrier()\n",
    "    qc.cswap(qr[2],qr[1],qr[0])\n",
    "    qc.h(qr[2])\n",
    "    qc.barrier()\n",
    "    \n",
    "\n",
    "    qc.measure([2],[2])\n",
    "    qc.measure([0,1],[0,1])\n",
    "    qc.draw(output = 'mpl')\n",
    "    job = execute(qc,backend, shots=shots)\n",
    "    result = job.result()\n",
    "    data = result.get_counts(qc)\n",
    "\n",
    "    for i in data.keys():\n",
    "        cleanData[i] += data[i]/shots\n",
    "\n",
    "\n",
    "for i in cleanData.keys():\n",
    "    cleanData[i] = cleanData[i]/trials\n",
    "    \n",
    "print(cleanData)\n",
    "\n",
    "print(\"Success ratio is:\")\n",
    "ratio = cleanData['000']/(cleanData['000']+cleanData['001']+cleanData['010']+cleanData['011'])\n",
    "print(ratio)\n",
    "\n",
    "qc.draw(output = 'mpl')\n",
    "    "
   ]
  },
  {
   "cell_type": "code",
   "execution_count": 4,
   "metadata": {},
   "outputs": [
    {
     "name": "stdout",
     "output_type": "stream",
     "text": [
      "Available backends:\n"
     ]
    },
    {
     "data": {
      "text/plain": [
       "[<IBMQSimulator('ibmq_qasm_simulator') from IBMQ(ibm-q, open, main)>,\n",
       " <IBMQBackend('ibmqx4') from IBMQ(ibm-q, open, main)>,\n",
       " <IBMQBackend('ibmqx2') from IBMQ(ibm-q, open, main)>,\n",
       " <IBMQBackend('ibmq_16_melbourne') from IBMQ(ibm-q, open, main)>]"
      ]
     },
     "execution_count": 4,
     "metadata": {},
     "output_type": "execute_result"
    }
   ],
   "source": [
    "print(\"Available backends:\")\n",
    "IBMQ.stored_accounts()\n",
    "IBMQ.load_accounts()\n",
    "IBMQ.backends()"
   ]
  }
 ],
 "metadata": {
  "kernelspec": {
   "display_name": "Python 3",
   "language": "python",
   "name": "python3"
  },
  "language_info": {
   "codemirror_mode": {
    "name": "ipython",
    "version": 3
   },
   "file_extension": ".py",
   "mimetype": "text/x-python",
   "name": "python",
   "nbconvert_exporter": "python",
   "pygments_lexer": "ipython3",
   "version": "3.7.3"
  }
 },
 "nbformat": 4,
 "nbformat_minor": 2
}
