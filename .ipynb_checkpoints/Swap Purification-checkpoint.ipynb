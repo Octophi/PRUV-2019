{
 "cells": [
  {
   "cell_type": "code",
   "execution_count": 137,
   "metadata": {},
   "outputs": [
    {
     "name": "stdout",
     "output_type": "stream",
     "text": [
      "Available backends:\n",
      "{'000': 0.5, '001': 0.22, '010': 0.22, '011': 0.06, '100': 0.0, '101': 0.0, '110': 0.0, '111': 0.0}\n",
      "Success ratio is:\n",
      "0.5\n"
     ]
    },
    {
     "data": {
      "image/png": "[encoded data removed]",
      "text/plain": [
       "<Figure size 541.8x379.26 with 1 Axes>"
      ]
     },
     "execution_count": 137,
     "metadata": {},
     "output_type": "execute_result"
    }
   ],
   "source": [
    "import qiskit\n",
    "from qiskit import IBMQ\n",
    "from qiskit import(QuantumCircuit, execute, Aer, QuantumRegister, ClassicalRegister)\n",
    "from qiskit.visualization import plot_histogram\n",
    "import random\n",
    "import numpy as np\n",
    "\n",
    "import matplotlib.pyplot as plt\n",
    "%matplotlib inline\n",
    "from numpy import matrix\n",
    "from math import pi\n",
    "from math import sqrt\n",
    "\n",
    "simulator = Aer.get_backend('qasm_simulator')\n",
    "backend = IBMQ.get_backend('ibmqx2')\n",
    "print(\"Available backends:\")\n",
    "IBMQ.backends()\n",
    "\n",
    "# Prepare mixed states that are 0 with probability p\n",
    "def randomize(circ,regs,p):\n",
    "    for i in regs:\n",
    "        if random.random() > p:\n",
    "            circ.x(i)\n",
    "\n",
    "            \n",
    "            \n",
    "# converts 0-3 to binary strings\n",
    "def toBinString(num):\n",
    "    if num ==0:\n",
    "        return \"00\"\n",
    "    elif num == 1:\n",
    "        return \"01\"\n",
    "    elif num == 2:\n",
    "        return \"10\"\n",
    "    elif num == 3:\n",
    "        return \"11\"\n",
    "    else:\n",
    "        print(\"OH NO\")\n",
    "        \n",
    "        \n",
    "shots = 1024\n",
    "trials = 500\n",
    "totalSuccessful = 0\n",
    "cleanData = {\"000\":0, \"001\":0, \"010\":0, \"011\":0, \"100\": 0, \"101\": 0, \"110\": 0, \"111\": 0}\n",
    "qubits = 3\n",
    "cbits = 3\n",
    "pval = 0.7\n",
    "\n",
    "failures = 0\n",
    "desired_state = [sqrt(pval), sqrt(1-pval)]\n",
    "\n",
    "for i in range(trials):\n",
    "    qr = QuantumRegister(qubits)\n",
    "    cr = ClassicalRegister(cbits)\n",
    "    qc = QuantumCircuit(qr,cr)\n",
    "    \n",
    "    randomize(qc,[0,1],pval)\n",
    "    #qc.initialize(desired_state, [qr[1]])\n",
    "    #qc.initialize(desired_state, [qr[0]])\n",
    "\n",
    "    '''\n",
    "    qc.h(qr[2])\n",
    "    qc.barrier()\n",
    "    qc.cswap(qr[2],qr[1],qr[0])\n",
    "    qc.h(qr[2])\n",
    "    qc.barrier()\n",
    "    '''\n",
    "\n",
    "    qc.measure([2],[2])\n",
    "    qc.measure([0,1],[0,1])\n",
    "    qc.draw(output = 'mpl')\n",
    "    job = execute(qc,simulator, shots=shots)\n",
    "    result = job.result()\n",
    "    data = result.get_counts(qc)\n",
    "\n",
    "    for i in data.keys():\n",
    "        cleanData[i] += data[i]/shots\n",
    "\n",
    "\n",
    "for i in cleanData.keys():\n",
    "    cleanData[i] = cleanData[i]/trials\n",
    "    \n",
    "print(cleanData)\n",
    "\n",
    "print(\"Success ratio is:\")\n",
    "ratio = cleanData['000']/(cleanData['000']+cleanData['001']+cleanData['010']+cleanData['011'])\n",
    "print(ratio)\n",
    "\n",
    "qc.draw(output = 'mpl')\n",
    "    "
   ]
  },
  {
   "cell_type": "code",
   "execution_count": 110,
   "metadata": {},
   "outputs": [
    {
     "name": "stdout",
     "output_type": "stream",
     "text": [
      "Available backends:\n"
     ]
    },
    {
     "data": {
      "text/plain": [
       "[<IBMQSimulator('ibmq_qasm_simulator') from IBMQ(ibm-q, open, main)>,\n",
       " <IBMQBackend('ibmqx4') from IBMQ(ibm-q, open, main)>,\n",
       " <IBMQBackend('ibmqx2') from IBMQ(ibm-q, open, main)>,\n",
       " <IBMQBackend('ibmq_16_melbourne') from IBMQ(ibm-q, open, main)>]"
      ]
     },
     "execution_count": 110,
     "metadata": {},
     "output_type": "execute_result"
    }
   ],
   "source": [
    "print(\"Available backends:\")\n",
    "IBMQ.stored_accounts()\n",
    "IBMQ.load_accounts()\n",
    "IBMQ.backends()"
   ]
  }
 ],
 "metadata": {
  "kernelspec": {
   "display_name": "Python 3",
   "language": "python",
   "name": "python3"
  },
  "language_info": {
   "codemirror_mode": {
    "name": "ipython",
    "version": 3
   },
   "file_extension": ".py",
   "mimetype": "text/x-python",
   "name": "python",
   "nbconvert_exporter": "python",
   "pygments_lexer": "ipython3",
   "version": "3.7.3"
  }
 },
 "nbformat": 4,
 "nbformat_minor": 2
}
